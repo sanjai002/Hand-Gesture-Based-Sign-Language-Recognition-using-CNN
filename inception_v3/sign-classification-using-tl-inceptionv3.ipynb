{
 "cells": [
  {
   "cell_type": "markdown",
   "id": "ad90382c",
   "metadata": {
    "papermill": {
     "duration": 0.019269,
     "end_time": "2022-02-08T08:11:56.278632",
     "exception": false,
     "start_time": "2022-02-08T08:11:56.259363",
     "status": "completed"
    },
    "pycharm": {
     "name": "#%% md\n"
    },
    "tags": []
   },
   "source": [
    "# <p style=\"background-color:blue;font-family:newtimeroman;color:#FFF9ED;font-size:200%;text-align:center;border-radius:10px 10px;\">Sign Classification using Deep Learning</p>"
   ]
  },
  {
   "cell_type": "markdown",
   "id": "adb8e76f",
   "metadata": {
    "papermill": {
     "duration": 0.030245,
     "end_time": "2022-02-08T08:11:56.363477",
     "exception": false,
     "start_time": "2022-02-08T08:11:56.333232",
     "status": "completed"
    },
    "pycharm": {
     "name": "#%% md\n"
    },
    "tags": []
   },
   "source": [
    "<a id='top'></a>\n",
    "<p style=\"background-color:blue;font-family:newtimeroman;color:#FFF9ED;font-size:150%;text-align:center;border-radius:10px 10px;\">TABLE OF CONTENTS</p>   \n",
    "    \n",
    "* [IMPORTING LIBRARIES](#1)\n",
    "\n",
    "* [LOADING DATA](#2)\n",
    "\n",
    "* [BUILDING MODEL](#3)\n",
    "\n",
    "* [TRANSFER LEARNING USING INCEPTIONV3](#4)\n",
    "\n",
    "* [PLOTTING MODEL TRAINING AND VALIDATION RESULT](#5)\n",
    "\n",
    "* [SAVING MODEL](#6)\n",
    "\n"
   ]
  },
  {
   "cell_type": "markdown",
   "id": "8dbe4de6",
   "metadata": {
    "papermill": {
     "duration": 0.028449,
     "end_time": "2022-02-08T08:11:56.422919",
     "exception": false,
     "start_time": "2022-02-08T08:11:56.394470",
     "status": "completed"
    },
    "pycharm": {
     "name": "#%% md\n"
    },
    "tags": []
   },
   "source": [
    "<a id=\"1\"></a>\n",
    "# <p style=\"background-color:blue;font-family:newtimeroman;color:#FFF9ED;font-size:150%;text-align:center;border-radius:10px 10px;\">IMPORTING LIBRARIES</p>\n",
    "\n",
    "<p style=\"font-family:newtimeroman;color:#F47340;font-size:150%\">The following Libraries will be used in the notebook.</p>"
   ]
  },
  {
   "cell_type": "code",
   "execution_count": 3,
   "metadata": {
    "collapsed": false,
    "pycharm": {
     "name": "#%%\n"
    }
   },
   "outputs": [
    {
     "name": "stdout",
     "output_type": "stream",
     "text": [
      "Packages imported...\n"
     ]
    }
   ],
   "source": [
    "# Importing Libraries\n",
    "import os\n",
    "os.environ['TF_CPP_MIN_LOG_LEVEL'] = '3'\n",
    "import tensorflow as tf\n",
    "tf.autograph.set_verbosity(0)\n",
    "from tensorflow.keras.models import Sequential\n",
    "from tensorflow.keras.layers import Conv2D, MaxPooling2D, Activation, Dense, Flatten\n",
    "import matplotlib.pyplot as plt\n",
    "%matplotlib inline\n",
    "\n",
    "# import image processing libraries\n",
    "import cv2\n",
    "import skimage\n",
    "from skimage.transform import resize\n",
    "import pandas as pd\n",
    "import os\n",
    "import numpy as np\n",
    "import gc\n",
    "print(\"Packages imported...\")\n",
    "\n"
   ]
  },
  {
   "cell_type": "markdown",
   "metadata": {
    "collapsed": false,
    "pycharm": {
     "name": "#%% md\n"
    }
   },
   "source": [
    "<a id=\"2\"></a>\n",
    "# <p style=\"background-color:blue;font-family:newtimeroman;color:#FFF9ED;font-size:150%;text-align:center;border-radius:10px 10px;\">LOADING DATA</p>\n",
    "\n"
   ]
  },
  {
   "cell_type": "code",
   "execution_count": 4,
   "metadata": {
    "collapsed": false,
    "pycharm": {
     "name": "#%%\n"
    }
   },
   "outputs": [
    {
     "name": "stdout",
     "output_type": "stream",
     "text": [
      "Reading from A\n",
      "Reading from B\n",
      "Reading from C\n",
      "Reading from D\n",
      "Reading from del\n",
      "Reading from E\n",
      "Reading from F\n",
      "Reading from G\n",
      "Reading from H\n",
      "Reading from I\n",
      "Reading from J\n",
      "Reading from K\n",
      "Reading from L\n",
      "Reading from M\n",
      "Reading from N\n",
      "Reading from nothing\n",
      "Reading from O\n",
      "Reading from P\n",
      "Reading from Q\n",
      "Reading from R\n",
      "Reading from S\n",
      "Reading from space\n",
      "Reading from T\n",
      "Reading from U\n",
      "Reading from V\n",
      "Reading from W\n",
      "Reading from X\n",
      "Reading from Y\n",
      "Reading from Z\n",
      "Images successfully imported...\n"
     ]
    }
   ],
   "source": [
    "batch_size = 64\n",
    "imageSize = 64\n",
    "target_dims = (imageSize, imageSize, 3)\n",
    "num_classes = 29\n",
    "\n",
    "train_len = 87000\n",
    "train_dir = 'dataset'\n",
    "\n",
    "def get_data(folder):\n",
    "    X = np.empty((train_len, imageSize, imageSize, 3), dtype=np.float32)\n",
    "    y = np.empty((train_len,), dtype=np.int)\n",
    "    cnt = 0\n",
    "    for folderName in os.listdir(folder):\n",
    "        print('Reading from',folderName)\n",
    "        if not folderName.startswith('.'):\n",
    "            if folderName in ['A']:\n",
    "                label = 0\n",
    "            elif folderName in ['B']:\n",
    "                label = 1\n",
    "            elif folderName in ['C']:\n",
    "                label = 2\n",
    "            elif folderName in ['D']:\n",
    "                label = 3\n",
    "            elif folderName in ['E']:\n",
    "                label = 4\n",
    "            elif folderName in ['F']:\n",
    "                label = 5\n",
    "            elif folderName in ['G']:\n",
    "                label = 6\n",
    "            elif folderName in ['H']:\n",
    "                label = 7\n",
    "            elif folderName in ['I']:\n",
    "                label = 8\n",
    "            elif folderName in ['J']:\n",
    "                label = 9\n",
    "            elif folderName in ['K']:\n",
    "                label = 10\n",
    "            elif folderName in ['L']:\n",
    "                label = 11\n",
    "            elif folderName in ['M']:\n",
    "                label = 12\n",
    "            elif folderName in ['N']:\n",
    "                label = 13\n",
    "            elif folderName in ['O']:\n",
    "                label = 14\n",
    "            elif folderName in ['P']:\n",
    "                label = 15\n",
    "            elif folderName in ['Q']:\n",
    "                label = 16\n",
    "            elif folderName in ['R']:\n",
    "                label = 17\n",
    "            elif folderName in ['S']:\n",
    "                label = 18\n",
    "            elif folderName in ['T']:\n",
    "                label = 19\n",
    "            elif folderName in ['U']:\n",
    "                label = 20\n",
    "            elif folderName in ['V']:\n",
    "                label = 21\n",
    "            elif folderName in ['W']:\n",
    "                label = 22\n",
    "            elif folderName in ['X']:\n",
    "                label = 23\n",
    "            elif folderName in ['Y']:\n",
    "                label = 24\n",
    "            elif folderName in ['Z']:\n",
    "                label = 25\n",
    "            elif folderName in ['del']:\n",
    "                label = 26\n",
    "            elif folderName in ['nothing']:\n",
    "                label = 27\n",
    "            elif folderName in ['space']:\n",
    "                label = 28\n",
    "            else:\n",
    "                label = 29\n",
    "            for image_filename in os.listdir(os.path.join(folder,folderName)):\n",
    "                img_file = cv2.imread(os.path.join(folder,folderName,image_filename))\n",
    "                if img_file is not None:\n",
    "                    img_file = skimage.transform.resize(img_file, (imageSize, imageSize, 3))\n",
    "                    img_arr = np.asarray(img_file).reshape((-1, imageSize, imageSize, 3))\n",
    "\n",
    "                    X[cnt] = img_arr\n",
    "                    y[cnt] = label\n",
    "                    cnt += 1\n",
    "    return X,y\n",
    "X_train, y_train = get_data(train_dir)\n",
    "print(\"Images successfully imported...\")"
   ]
  },
  {
   "cell_type": "markdown",
   "id": "17e1f435",
   "metadata": {
    "papermill": {
     "duration": 0.020046,
     "end_time": "2022-02-08T08:12:18.486642",
     "exception": false,
     "start_time": "2022-02-08T08:12:18.466596",
     "status": "completed"
    },
    "pycharm": {
     "name": "#%% md\n"
    },
    "tags": []
   },
   "source": [
    " <p style=\"font-family:newtimeroman;color:#F47340;font-size:150%\">\n",
    "    Now that I have the dataset loaded, let us have a look at a few images.\n",
    "</p>"
   ]
  },
  {
   "cell_type": "code",
   "execution_count": 5,
   "id": "b3d9261b",
   "metadata": {
    "execution": {
     "iopub.execute_input": "2022-02-08T08:12:18.534842Z",
     "iopub.status.busy": "2022-02-08T08:12:18.534271Z",
     "iopub.status.idle": "2022-02-08T08:12:19.770321Z",
     "shell.execute_reply": "2022-02-08T08:12:19.770727Z",
     "shell.execute_reply.started": "2022-02-08T08:10:18.893038Z"
    },
    "papermill": {
     "duration": 1.262951,
     "end_time": "2022-02-08T08:12:19.770885",
     "exception": false,
     "start_time": "2022-02-08T08:12:18.507934",
     "status": "completed"
    },
    "pycharm": {
     "name": "#%%\n"
    },
    "tags": []
   },
   "outputs": [
    {
     "ename": "FileNotFoundError",
     "evalue": "[Errno 2] No such file or directory: 'dataset{0}/{0}1.jpg'",
     "output_type": "error",
     "traceback": [
      "\u001b[1;31m---------------------------------------------------------------------------\u001b[0m",
      "\u001b[1;31mFileNotFoundError\u001b[0m                         Traceback (most recent call last)",
      "\u001b[1;32m~\\AppData\\Local\\Temp\\ipykernel_30008\\1023033828.py\u001b[0m in \u001b[0;36m<module>\u001b[1;34m\u001b[0m\n\u001b[0;32m     12\u001b[0m         \u001b[1;31m#plt.xlabel(label[i])\u001b[0m\u001b[1;33m\u001b[0m\u001b[1;33m\u001b[0m\u001b[1;33m\u001b[0m\u001b[0m\n\u001b[0;32m     13\u001b[0m \u001b[1;33m\u001b[0m\u001b[0m\n\u001b[1;32m---> 14\u001b[1;33m \u001b[0mplot_images\u001b[0m\u001b[1;33m(\u001b[0m\u001b[1;33m)\u001b[0m\u001b[1;33m\u001b[0m\u001b[1;33m\u001b[0m\u001b[0m\n\u001b[0m",
      "\u001b[1;32m~\\AppData\\Local\\Temp\\ipykernel_30008\\1023033828.py\u001b[0m in \u001b[0;36mplot_images\u001b[1;34m()\u001b[0m\n\u001b[0;32m      8\u001b[0m         \u001b[0mplt\u001b[0m\u001b[1;33m.\u001b[0m\u001b[0myticks\u001b[0m\u001b[1;33m(\u001b[0m\u001b[1;33m[\u001b[0m\u001b[1;33m]\u001b[0m\u001b[1;33m)\u001b[0m\u001b[1;33m\u001b[0m\u001b[1;33m\u001b[0m\u001b[0m\n\u001b[0;32m      9\u001b[0m         \u001b[0mpath\u001b[0m \u001b[1;33m=\u001b[0m \u001b[0mtrain_dir\u001b[0m \u001b[1;33m+\u001b[0m \u001b[1;34m\"{0}/{0}1.jpg\"\u001b[0m\u001b[1;33m\u001b[0m\u001b[1;33m\u001b[0m\u001b[0m\n\u001b[1;32m---> 10\u001b[1;33m         \u001b[0mimg\u001b[0m \u001b[1;33m=\u001b[0m \u001b[0mplt\u001b[0m\u001b[1;33m.\u001b[0m\u001b[0mimread\u001b[0m\u001b[1;33m(\u001b[0m\u001b[0mpath\u001b[0m\u001b[1;33m)\u001b[0m\u001b[1;33m\u001b[0m\u001b[1;33m\u001b[0m\u001b[0m\n\u001b[0m\u001b[0;32m     11\u001b[0m         \u001b[0mplt\u001b[0m\u001b[1;33m.\u001b[0m\u001b[0mimshow\u001b[0m\u001b[1;33m(\u001b[0m\u001b[0mimg\u001b[0m\u001b[1;33m)\u001b[0m\u001b[1;33m\u001b[0m\u001b[1;33m\u001b[0m\u001b[0m\n\u001b[0;32m     12\u001b[0m         \u001b[1;31m#plt.xlabel(label[i])\u001b[0m\u001b[1;33m\u001b[0m\u001b[1;33m\u001b[0m\u001b[1;33m\u001b[0m\u001b[0m\n",
      "\u001b[1;32mc:\\Users\\HP\\AppData\\Local\\Programs\\Python\\Python37\\lib\\site-packages\\matplotlib\\pyplot.py\u001b[0m in \u001b[0;36mimread\u001b[1;34m(fname, format)\u001b[0m\n\u001b[0;32m   2156\u001b[0m \u001b[1;33m@\u001b[0m\u001b[0m_copy_docstring_and_deprecators\u001b[0m\u001b[1;33m(\u001b[0m\u001b[0mmatplotlib\u001b[0m\u001b[1;33m.\u001b[0m\u001b[0mimage\u001b[0m\u001b[1;33m.\u001b[0m\u001b[0mimread\u001b[0m\u001b[1;33m)\u001b[0m\u001b[1;33m\u001b[0m\u001b[1;33m\u001b[0m\u001b[0m\n\u001b[0;32m   2157\u001b[0m \u001b[1;32mdef\u001b[0m \u001b[0mimread\u001b[0m\u001b[1;33m(\u001b[0m\u001b[0mfname\u001b[0m\u001b[1;33m,\u001b[0m \u001b[0mformat\u001b[0m\u001b[1;33m=\u001b[0m\u001b[1;32mNone\u001b[0m\u001b[1;33m)\u001b[0m\u001b[1;33m:\u001b[0m\u001b[1;33m\u001b[0m\u001b[1;33m\u001b[0m\u001b[0m\n\u001b[1;32m-> 2158\u001b[1;33m     \u001b[1;32mreturn\u001b[0m \u001b[0mmatplotlib\u001b[0m\u001b[1;33m.\u001b[0m\u001b[0mimage\u001b[0m\u001b[1;33m.\u001b[0m\u001b[0mimread\u001b[0m\u001b[1;33m(\u001b[0m\u001b[0mfname\u001b[0m\u001b[1;33m,\u001b[0m \u001b[0mformat\u001b[0m\u001b[1;33m)\u001b[0m\u001b[1;33m\u001b[0m\u001b[1;33m\u001b[0m\u001b[0m\n\u001b[0m\u001b[0;32m   2159\u001b[0m \u001b[1;33m\u001b[0m\u001b[0m\n\u001b[0;32m   2160\u001b[0m \u001b[1;33m\u001b[0m\u001b[0m\n",
      "\u001b[1;32mc:\\Users\\HP\\AppData\\Local\\Programs\\Python\\Python37\\lib\\site-packages\\matplotlib\\image.py\u001b[0m in \u001b[0;36mimread\u001b[1;34m(fname, format)\u001b[0m\n\u001b[0;32m   1558\u001b[0m                     \u001b[0mresponse\u001b[0m \u001b[1;33m=\u001b[0m \u001b[0mio\u001b[0m\u001b[1;33m.\u001b[0m\u001b[0mBytesIO\u001b[0m\u001b[1;33m(\u001b[0m\u001b[0mresponse\u001b[0m\u001b[1;33m.\u001b[0m\u001b[0mread\u001b[0m\u001b[1;33m(\u001b[0m\u001b[1;33m)\u001b[0m\u001b[1;33m)\u001b[0m\u001b[1;33m\u001b[0m\u001b[1;33m\u001b[0m\u001b[0m\n\u001b[0;32m   1559\u001b[0m                 \u001b[1;32mreturn\u001b[0m \u001b[0mimread\u001b[0m\u001b[1;33m(\u001b[0m\u001b[0mresponse\u001b[0m\u001b[1;33m,\u001b[0m \u001b[0mformat\u001b[0m\u001b[1;33m=\u001b[0m\u001b[0mext\u001b[0m\u001b[1;33m)\u001b[0m\u001b[1;33m\u001b[0m\u001b[1;33m\u001b[0m\u001b[0m\n\u001b[1;32m-> 1560\u001b[1;33m     \u001b[1;32mwith\u001b[0m \u001b[0mimg_open\u001b[0m\u001b[1;33m(\u001b[0m\u001b[0mfname\u001b[0m\u001b[1;33m)\u001b[0m \u001b[1;32mas\u001b[0m \u001b[0mimage\u001b[0m\u001b[1;33m:\u001b[0m\u001b[1;33m\u001b[0m\u001b[1;33m\u001b[0m\u001b[0m\n\u001b[0m\u001b[0;32m   1561\u001b[0m         return (_pil_png_to_float_array(image)\n\u001b[0;32m   1562\u001b[0m                 \u001b[1;32mif\u001b[0m \u001b[0misinstance\u001b[0m\u001b[1;33m(\u001b[0m\u001b[0mimage\u001b[0m\u001b[1;33m,\u001b[0m \u001b[0mPIL\u001b[0m\u001b[1;33m.\u001b[0m\u001b[0mPngImagePlugin\u001b[0m\u001b[1;33m.\u001b[0m\u001b[0mPngImageFile\u001b[0m\u001b[1;33m)\u001b[0m \u001b[1;32melse\u001b[0m\u001b[1;33m\u001b[0m\u001b[1;33m\u001b[0m\u001b[0m\n",
      "\u001b[1;32mc:\\Users\\HP\\AppData\\Local\\Programs\\Python\\Python37\\lib\\site-packages\\PIL\\Image.py\u001b[0m in \u001b[0;36mopen\u001b[1;34m(fp, mode, formats)\u001b[0m\n\u001b[0;32m   3129\u001b[0m \u001b[1;33m\u001b[0m\u001b[0m\n\u001b[0;32m   3130\u001b[0m     \u001b[1;32mif\u001b[0m \u001b[0mfilename\u001b[0m\u001b[1;33m:\u001b[0m\u001b[1;33m\u001b[0m\u001b[1;33m\u001b[0m\u001b[0m\n\u001b[1;32m-> 3131\u001b[1;33m         \u001b[0mfp\u001b[0m \u001b[1;33m=\u001b[0m \u001b[0mbuiltins\u001b[0m\u001b[1;33m.\u001b[0m\u001b[0mopen\u001b[0m\u001b[1;33m(\u001b[0m\u001b[0mfilename\u001b[0m\u001b[1;33m,\u001b[0m \u001b[1;34m\"rb\"\u001b[0m\u001b[1;33m)\u001b[0m\u001b[1;33m\u001b[0m\u001b[1;33m\u001b[0m\u001b[0m\n\u001b[0m\u001b[0;32m   3132\u001b[0m         \u001b[0mexclusive_fp\u001b[0m \u001b[1;33m=\u001b[0m \u001b[1;32mTrue\u001b[0m\u001b[1;33m\u001b[0m\u001b[1;33m\u001b[0m\u001b[0m\n\u001b[0;32m   3133\u001b[0m \u001b[1;33m\u001b[0m\u001b[0m\n",
      "\u001b[1;31mFileNotFoundError\u001b[0m: [Errno 2] No such file or directory: 'dataset{0}/{0}1.jpg'"
     ]
    },
    {
     "data": {
      "text/plain": [
       "<Figure size 640x480 with 0 Axes>"
      ]
     },
     "metadata": {},
     "output_type": "display_data"
    },
    {
     "data": {
      "image/png": "[encoded data removed]",
      "text/plain": [
       "<Figure size 1600x500 with 1 Axes>"
      ]
     },
     "metadata": {},
     "output_type": "display_data"
    }
   ],
   "source": [
    "def plot_images():\n",
    "    figure = plt.figure()\n",
    "    plt.figure(figsize=(16,5))\n",
    "\n",
    "    for i in range (0,29):\n",
    "        plt.subplot(3,10,i+1)\n",
    "        plt.xticks([])\n",
    "        plt.yticks([])\n",
    "        path = train_dir + \"{0}/{0}1.jpg\"\n",
    "        img = plt.imread(path)\n",
    "        plt.imshow(img)\n",
    "        #plt.xlabel(label[i])\n",
    "        \n",
    "plot_images()"
   ]
  },
  {
   "cell_type": "code",
   "execution_count": 6,
   "metadata": {
    "collapsed": false,
    "pycharm": {
     "name": "#%%\n"
    }
   },
   "outputs": [
    {
     "data": {
      "text/plain": [
       "1962"
      ]
     },
     "execution_count": 6,
     "metadata": {},
     "output_type": "execute_result"
    }
   ],
   "source": [
    "from sklearn.model_selection import train_test_split\n",
    "from tensorflow.keras.utils import to_categorical\n",
    "import gc\n",
    "\n",
    "X_data = X_train\n",
    "y_data = y_train\n",
    "X_train, X_test, y_train, y_test = train_test_split(X_data, y_data, test_size=0.3,random_state=42,stratify=y_data)\n",
    "y_cat_train = to_categorical(y_train,29)\n",
    "y_cat_test = to_categorical(y_test,29)\n",
    "del X_data\n",
    "del y_data\n",
    "gc.collect()"
   ]
  },
  {
   "cell_type": "markdown",
   "id": "caa96b85",
   "metadata": {
    "papermill": {
     "duration": 0.032412,
     "end_time": "2022-02-08T08:12:19.836452",
     "exception": false,
     "start_time": "2022-02-08T08:12:19.804040",
     "status": "completed"
    },
    "pycharm": {
     "name": "#%% md\n"
    },
    "tags": []
   },
   "source": [
    "<a id=\"3\"></a>\n",
    "# <p style=\"background-color:blue;font-family:newtimeroman;color:#FFF9ED;font-size:150%;text-align:center;border-radius:10px 10px;\">BUILDING MODEL</p>\n"
   ]
  },
  {
   "cell_type": "code",
   "execution_count": 7,
   "metadata": {
    "collapsed": false,
    "pycharm": {
     "name": "#%%\n"
    }
   },
   "outputs": [
    {
     "name": "stdout",
     "output_type": "stream",
     "text": [
      "Model: \"sequential\"\n",
      "_________________________________________________________________\n",
      "Layer (type)                 Output Shape              Param #   \n",
      "=================================================================\n",
      "conv2d (Conv2D)              (None, 60, 60, 32)        2432      \n",
      "_________________________________________________________________\n",
      "activation (Activation)      (None, 60, 60, 32)        0         \n",
      "_________________________________________________________________\n",
      "max_pooling2d (MaxPooling2D) (None, 30, 30, 32)        0         \n",
      "_________________________________________________________________\n",
      "conv2d_1 (Conv2D)            (None, 28, 28, 64)        18496     \n",
      "_________________________________________________________________\n",
      "activation_1 (Activation)    (None, 28, 28, 64)        0         \n",
      "_________________________________________________________________\n",
      "max_pooling2d_1 (MaxPooling2 (None, 14, 14, 64)        0         \n",
      "_________________________________________________________________\n",
      "conv2d_2 (Conv2D)            (None, 12, 12, 64)        36928     \n",
      "_________________________________________________________________\n",
      "activation_2 (Activation)    (None, 12, 12, 64)        0         \n",
      "_________________________________________________________________\n",
      "max_pooling2d_2 (MaxPooling2 (None, 6, 6, 64)          0         \n",
      "_________________________________________________________________\n",
      "flatten (Flatten)            (None, 2304)              0         \n",
      "_________________________________________________________________\n",
      "dense (Dense)                (None, 128)               295040    \n",
      "_________________________________________________________________\n",
      "dense_1 (Dense)              (None, 29)                3741      \n",
      "=================================================================\n",
      "Total params: 356,637\n",
      "Trainable params: 356,637\n",
      "Non-trainable params: 0\n",
      "_________________________________________________________________\n"
     ]
    }
   ],
   "source": [
    "model = Sequential()\n",
    "\n",
    "model.add(Conv2D(32, (5, 5), input_shape=(64, 64, 3)))\n",
    "model.add(Activation('relu'))\n",
    "model.add(MaxPooling2D((2, 2)))\n",
    "\n",
    "model.add(Conv2D(64, (3, 3)))\n",
    "model.add(Activation('relu'))\n",
    "model.add(MaxPooling2D((2, 2)))\n",
    "\n",
    "model.add(Conv2D(64, (3, 3)))\n",
    "model.add(Activation('relu'))\n",
    "model.add(MaxPooling2D((2, 2)))\n",
    "\n",
    "model.add(Flatten())\n",
    "\n",
    "model.add(Dense(128, activation='relu'))\n",
    "\n",
    "model.add(Dense(29, activation='softmax'))\n",
    "\n",
    "model.summary()"
   ]
  },
  {
   "cell_type": "code",
   "execution_count": 8,
   "metadata": {
    "collapsed": false,
    "pycharm": {
     "name": "#%%\n"
    }
   },
   "outputs": [],
   "source": [
    "from tensorflow.keras.callbacks import EarlyStopping\n",
    "early_stop = EarlyStopping(monitor='val_loss',patience=5)"
   ]
  },
  {
   "cell_type": "code",
   "execution_count": 9,
   "metadata": {
    "collapsed": false,
    "pycharm": {
     "name": "#%%\n"
    }
   },
   "outputs": [],
   "source": [
    "model.compile(optimizer='adam',\n",
    "              loss='categorical_crossentropy',\n",
    "              metrics=['accuracy'])"
   ]
  },
  {
   "cell_type": "markdown",
   "metadata": {
    "collapsed": false,
    "pycharm": {
     "name": "#%% md\n"
    }
   },
   "source": [
    "## Training Model"
   ]
  },
  {
   "cell_type": "code",
   "execution_count": 11,
   "id": "548b37fe",
   "metadata": {
    "execution": {
     "iopub.execute_input": "2022-02-08T08:12:22.999593Z",
     "iopub.status.busy": "2022-02-08T08:12:22.998652Z",
     "iopub.status.idle": "2022-02-08T09:16:28.726963Z",
     "shell.execute_reply": "2022-02-08T09:16:28.727679Z"
    },
    "papermill": {
     "duration": 3845.772077,
     "end_time": "2022-02-08T09:16:28.727959",
     "exception": false,
     "start_time": "2022-02-08T08:12:22.955882",
     "status": "completed"
    },
    "pycharm": {
     "name": "#%%\n"
    },
    "tags": []
   },
   "outputs": [
    {
     "name": "stdout",
     "output_type": "stream",
     "text": [
      "Epoch 1/15\n",
      "952/952 [==============================] - ETA: 0s - loss: 1.0794 - accuracy: 0.6726WARNING:tensorflow:AutoGraph could not transform <function Model.make_test_function.<locals>.test_function at 0x000002AC4EC50048> and will run it as-is.\n",
      "Please report this to the TensorFlow team. When filing the bug, set the verbosity to 10 (on Linux, `export AUTOGRAPH_VERBOSITY=10`) and attach the full output.\n",
      "Cause: 'arguments' object has no attribute 'posonlyargs'\n",
      "To silence this warning, decorate the function with @tf.autograph.experimental.do_not_convert\n",
      "952/952 [==============================] - 421s 442ms/step - loss: 1.0794 - accuracy: 0.6726 - val_loss: 0.3189 - val_accuracy: 0.8953\n",
      "Epoch 2/15\n",
      "952/952 [==============================] - 386s 406ms/step - loss: 0.1619 - accuracy: 0.9475 - val_loss: 0.0984 - val_accuracy: 0.9669\n",
      "Epoch 3/15\n",
      "952/952 [==============================] - 318s 335ms/step - loss: 0.0817 - accuracy: 0.9737 - val_loss: 0.0845 - val_accuracy: 0.9746\n",
      "Epoch 4/15\n",
      "952/952 [==============================] - 308s 324ms/step - loss: 0.0539 - accuracy: 0.9831 - val_loss: 0.0513 - val_accuracy: 0.9848\n",
      "Epoch 5/15\n",
      "952/952 [==============================] - 297s 312ms/step - loss: 0.0382 - accuracy: 0.9877 - val_loss: 0.0313 - val_accuracy: 0.9908\n",
      "Epoch 6/15\n",
      "952/952 [==============================] - 297s 312ms/step - loss: 0.0404 - accuracy: 0.9880 - val_loss: 0.0284 - val_accuracy: 0.9916\n",
      "Epoch 7/15\n",
      "952/952 [==============================] - 299s 314ms/step - loss: 0.0353 - accuracy: 0.9897 - val_loss: 0.0254 - val_accuracy: 0.9933\n",
      "Epoch 8/15\n",
      "952/952 [==============================] - 299s 314ms/step - loss: 0.0227 - accuracy: 0.9933 - val_loss: 0.0361 - val_accuracy: 0.9892\n",
      "Epoch 9/15\n",
      "952/952 [==============================] - 300s 315ms/step - loss: 0.0249 - accuracy: 0.9923 - val_loss: 0.0226 - val_accuracy: 0.9928\n",
      "Epoch 10/15\n",
      "952/952 [==============================] - 320s 336ms/step - loss: 0.0224 - accuracy: 0.9934 - val_loss: 0.0273 - val_accuracy: 0.9926\n",
      "Epoch 11/15\n",
      "952/952 [==============================] - 353s 371ms/step - loss: 0.0274 - accuracy: 0.9917 - val_loss: 0.0168 - val_accuracy: 0.9945\n",
      "Epoch 12/15\n",
      "952/952 [==============================] - 311s 326ms/step - loss: 0.0175 - accuracy: 0.9951 - val_loss: 0.0050 - val_accuracy: 0.9985\n",
      "Epoch 13/15\n",
      "952/952 [==============================] - 303s 319ms/step - loss: 0.0186 - accuracy: 0.9949 - val_loss: 0.0073 - val_accuracy: 0.9976\n",
      "Epoch 14/15\n",
      "952/952 [==============================] - 302s 317ms/step - loss: 0.0143 - accuracy: 0.9955 - val_loss: 0.0127 - val_accuracy: 0.9956\n",
      "Epoch 15/15\n",
      "952/952 [==============================] - 314s 330ms/step - loss: 0.0186 - accuracy: 0.9949 - val_loss: 0.0149 - val_accuracy: 0.9959\n"
     ]
    }
   ],
   "source": [
    "history=model.fit(X_train, y_cat_train,\n",
    "          epochs=15,\n",
    "          batch_size=64,\n",
    "          verbose=1,\n",
    "          validation_data=(X_test, y_cat_test),\n",
    "         callbacks=[early_stop])"
   ]
  },
  {
   "cell_type": "markdown",
   "id": "3a0f5030",
   "metadata": {
    "papermill": {
     "duration": 1.785604,
     "end_time": "2022-02-08T09:16:32.828754",
     "exception": false,
     "start_time": "2022-02-08T09:16:31.043150",
     "status": "completed"
    },
    "pycharm": {
     "name": "#%% md\n"
    },
    "tags": []
   },
   "source": [
    "<a id=\"5\"></a>\n",
    "# <p style=\"background-color:blue;font-family:newtimeroman;color:#FFF9ED;font-size:150%;text-align:center;border-radius:10px 10px;\">PLOTTING MODEL TRAINING AND VALIDATION RESULT</p>"
   ]
  },
  {
   "cell_type": "code",
   "execution_count": 12,
   "metadata": {
    "collapsed": false,
    "pycharm": {
     "name": "#%%\n"
    }
   },
   "outputs": [
    {
     "name": "stdout",
     "output_type": "stream",
     "text": [
      "The model metrics are\n"
     ]
    },
    {
     "data": {
      "text/html": [
       "<div>\n",
       "<style scoped>\n",
       "    .dataframe tbody tr th:only-of-type {\n",
       "        vertical-align: middle;\n",
       "    }\n",
       "\n",
       "    .dataframe tbody tr th {\n",
       "        vertical-align: top;\n",
       "    }\n",
       "\n",
       "    .dataframe thead th {\n",
       "        text-align: right;\n",
       "    }\n",
       "</style>\n",
       "<table border=\"1\" class=\"dataframe\">\n",
       "  <thead>\n",
       "    <tr style=\"text-align: right;\">\n",
       "      <th></th>\n",
       "      <th>loss</th>\n",
       "      <th>accuracy</th>\n",
       "      <th>val_loss</th>\n",
       "      <th>val_accuracy</th>\n",
       "    </tr>\n",
       "  </thead>\n",
       "  <tbody>\n",
       "    <tr>\n",
       "      <th>0</th>\n",
       "      <td>1.079369</td>\n",
       "      <td>0.672644</td>\n",
       "      <td>0.318947</td>\n",
       "      <td>0.895326</td>\n",
       "    </tr>\n",
       "    <tr>\n",
       "      <th>1</th>\n",
       "      <td>0.161918</td>\n",
       "      <td>0.947488</td>\n",
       "      <td>0.098396</td>\n",
       "      <td>0.966897</td>\n",
       "    </tr>\n",
       "    <tr>\n",
       "      <th>2</th>\n",
       "      <td>0.081656</td>\n",
       "      <td>0.973678</td>\n",
       "      <td>0.084543</td>\n",
       "      <td>0.974559</td>\n",
       "    </tr>\n",
       "    <tr>\n",
       "      <th>3</th>\n",
       "      <td>0.053912</td>\n",
       "      <td>0.983054</td>\n",
       "      <td>0.051259</td>\n",
       "      <td>0.984789</td>\n",
       "    </tr>\n",
       "    <tr>\n",
       "      <th>4</th>\n",
       "      <td>0.038198</td>\n",
       "      <td>0.987734</td>\n",
       "      <td>0.031250</td>\n",
       "      <td>0.990766</td>\n",
       "    </tr>\n",
       "    <tr>\n",
       "      <th>5</th>\n",
       "      <td>0.040420</td>\n",
       "      <td>0.987980</td>\n",
       "      <td>0.028428</td>\n",
       "      <td>0.991571</td>\n",
       "    </tr>\n",
       "    <tr>\n",
       "      <th>6</th>\n",
       "      <td>0.035302</td>\n",
       "      <td>0.989655</td>\n",
       "      <td>0.025366</td>\n",
       "      <td>0.993333</td>\n",
       "    </tr>\n",
       "    <tr>\n",
       "      <th>7</th>\n",
       "      <td>0.022703</td>\n",
       "      <td>0.993268</td>\n",
       "      <td>0.036090</td>\n",
       "      <td>0.989157</td>\n",
       "    </tr>\n",
       "    <tr>\n",
       "      <th>8</th>\n",
       "      <td>0.024917</td>\n",
       "      <td>0.992348</td>\n",
       "      <td>0.022612</td>\n",
       "      <td>0.992759</td>\n",
       "    </tr>\n",
       "    <tr>\n",
       "      <th>9</th>\n",
       "      <td>0.022417</td>\n",
       "      <td>0.993399</td>\n",
       "      <td>0.027278</td>\n",
       "      <td>0.992567</td>\n",
       "    </tr>\n",
       "    <tr>\n",
       "      <th>10</th>\n",
       "      <td>0.027357</td>\n",
       "      <td>0.991741</td>\n",
       "      <td>0.016787</td>\n",
       "      <td>0.994483</td>\n",
       "    </tr>\n",
       "    <tr>\n",
       "      <th>11</th>\n",
       "      <td>0.017544</td>\n",
       "      <td>0.995074</td>\n",
       "      <td>0.005020</td>\n",
       "      <td>0.998467</td>\n",
       "    </tr>\n",
       "    <tr>\n",
       "      <th>12</th>\n",
       "      <td>0.018584</td>\n",
       "      <td>0.994860</td>\n",
       "      <td>0.007298</td>\n",
       "      <td>0.997586</td>\n",
       "    </tr>\n",
       "    <tr>\n",
       "      <th>13</th>\n",
       "      <td>0.014300</td>\n",
       "      <td>0.995452</td>\n",
       "      <td>0.012710</td>\n",
       "      <td>0.995632</td>\n",
       "    </tr>\n",
       "    <tr>\n",
       "      <th>14</th>\n",
       "      <td>0.018589</td>\n",
       "      <td>0.994943</td>\n",
       "      <td>0.014877</td>\n",
       "      <td>0.995900</td>\n",
       "    </tr>\n",
       "  </tbody>\n",
       "</table>\n",
       "</div>"
      ],
      "text/plain": [
       "        loss  accuracy  val_loss  val_accuracy\n",
       "0   1.079369  0.672644  0.318947      0.895326\n",
       "1   0.161918  0.947488  0.098396      0.966897\n",
       "2   0.081656  0.973678  0.084543      0.974559\n",
       "3   0.053912  0.983054  0.051259      0.984789\n",
       "4   0.038198  0.987734  0.031250      0.990766\n",
       "5   0.040420  0.987980  0.028428      0.991571\n",
       "6   0.035302  0.989655  0.025366      0.993333\n",
       "7   0.022703  0.993268  0.036090      0.989157\n",
       "8   0.024917  0.992348  0.022612      0.992759\n",
       "9   0.022417  0.993399  0.027278      0.992567\n",
       "10  0.027357  0.991741  0.016787      0.994483\n",
       "11  0.017544  0.995074  0.005020      0.998467\n",
       "12  0.018584  0.994860  0.007298      0.997586\n",
       "13  0.014300  0.995452  0.012710      0.995632\n",
       "14  0.018589  0.994943  0.014877      0.995900"
      ]
     },
     "execution_count": 12,
     "metadata": {},
     "output_type": "execute_result"
    }
   ],
   "source": [
    "metrics = pd.DataFrame(model.history.history)\n",
    "print(\"The model metrics are\")\n",
    "metrics"
   ]
  },
  {
   "cell_type": "code",
   "execution_count": 13,
   "metadata": {
    "collapsed": false,
    "pycharm": {
     "name": "#%%\n"
    }
   },
   "outputs": [
    {
     "data": {
      "text/plain": [
       "<matplotlib.legend.Legend at 0x2ac51850648>"
      ]
     },
     "execution_count": 13,
     "metadata": {},
     "output_type": "execute_result"
    },
    {
     "data": {
      "image/png": "[encoded data removed]",
      "text/plain": [
       "<Figure size 640x480 with 1 Axes>"
      ]
     },
     "metadata": {},
     "output_type": "display_data"
    }
   ],
   "source": [
    "plt.xlabel('Epoch Number')\n",
    "plt.ylabel('Loss')\n",
    "plt.plot(metrics['loss'], label='training set')\n",
    "plt.plot(metrics['val_loss'], label='test set')\n",
    "plt.legend()"
   ]
  },
  {
   "cell_type": "markdown",
   "id": "02f9a7d3",
   "metadata": {
    "papermill": {
     "duration": 1.691969,
     "end_time": "2022-02-08T09:16:43.686491",
     "exception": false,
     "start_time": "2022-02-08T09:16:41.994522",
     "status": "completed"
    },
    "pycharm": {
     "name": "#%% md\n"
    },
    "tags": []
   },
   "source": [
    "<a id=\"6\"></a>\n",
    "# <p style=\"background-color:blue;font-family:newtimeroman;color:#FFF9ED;font-size:150%;text-align:center;border-radius:10px 10px;\">SAVING MODEL</p>\n",
    "\n",
    "<p style=\"font-family:newtimeroman;color:#F47340;font-size:150%\">\n",
    "    Let's save model for future.\n",
    "</p>"
   ]
  },
  {
   "cell_type": "code",
   "execution_count": 14,
   "id": "b030bc61",
   "metadata": {
    "execution": {
     "iopub.execute_input": "2022-02-08T09:16:47.143123Z",
     "iopub.status.busy": "2022-02-08T09:16:47.142465Z",
     "iopub.status.idle": "2022-02-08T09:16:47.698232Z",
     "shell.execute_reply": "2022-02-08T09:16:47.698641Z",
     "shell.execute_reply.started": "2022-02-08T05:17:56.134908Z"
    },
    "papermill": {
     "duration": 2.265284,
     "end_time": "2022-02-08T09:16:47.698834",
     "exception": false,
     "start_time": "2022-02-08T09:16:45.433550",
     "status": "completed"
    },
    "pycharm": {
     "name": "#%%\n"
    },
    "tags": []
   },
   "outputs": [],
   "source": [
    "model_name = 'model.h5'\n",
    "model.save(model_name, save_format='h5')"
   ]
  },
  {
   "cell_type": "markdown",
   "id": "3d10b3c8",
   "metadata": {
    "papermill": {
     "duration": 1.670334,
     "end_time": "2022-02-08T09:16:51.040949",
     "exception": false,
     "start_time": "2022-02-08T09:16:49.370615",
     "status": "completed"
    },
    "pycharm": {
     "name": "#%% md\n"
    },
    "tags": []
   },
   "source": [
    "<a id=\"7\"></a>\n",
    "# <p style=\"background-color:blue;font-family:newtimeroman;color:#FFF9ED;font-size:150%;text-align:center;border-radius:10px 10px;\">PREDICTION</p>\n",
    "\n",
    "<p style=\"font-family:newtimeroman;color:#F47340;font-size:150%\">\n",
    "    Let's check how accurate is our model.\n",
    "</p>"
   ]
  },
  {
   "cell_type": "code",
   "execution_count": null,
   "id": "a2d5c84b",
   "metadata": {
    "pycharm": {
     "name": "#%%\n"
    }
   },
   "outputs": [],
   "source": [
    "model = tf.keras.models.load_model('model.h5')"
   ]
  },
  {
   "cell_type": "code",
   "execution_count": null,
   "id": "f2a81387",
   "metadata": {
    "execution": {
     "iopub.execute_input": "2022-02-08T09:16:58.078357Z",
     "iopub.status.busy": "2022-02-08T09:16:58.077464Z",
     "iopub.status.idle": "2022-02-08T09:16:58.079651Z",
     "shell.execute_reply": "2022-02-08T09:16:58.080073Z"
    },
    "papermill": {
     "duration": 1.704998,
     "end_time": "2022-02-08T09:16:58.080240",
     "exception": false,
     "start_time": "2022-02-08T09:16:56.375242",
     "status": "completed"
    },
    "pycharm": {
     "name": "#%%\n"
    },
    "tags": []
   },
   "outputs": [],
   "source": [
    "import numpy as np\n",
    "from tensorflow.keras.preprocessing import image\n",
    "def predict_image(filename, model):\n",
    "    img_ = image.load_img(filename, target_size=(64, 64))\n",
    "    img_array = image.img_to_array(img_)\n",
    "    img_processed = np.expand_dims(img_array, axis=0)\n",
    "    img_processed /= 255.\n",
    "    \n",
    "    prediction = model.predict(img_processed)\n",
    "    \n",
    "    index = np.argmax(prediction)\n",
    "    print(index)\n",
    "    result=['A','B','C','D','del','E','F','G','H','I','J','K','L','M','N','nothing','O','P','Q','R','S','space','T','U','V','W','X','Y','Z']\n",
    "    plt.title(\"Prediction - {}\".format(str(result[index]).title()), size=18, color='red')\n",
    "    plt.imshow(img_array)"
   ]
  },
  {
   "cell_type": "code",
   "execution_count": null,
   "id": "ea8e94e5",
   "metadata": {
    "execution": {
     "iopub.execute_input": "2022-02-08T09:17:07.044429Z",
     "iopub.status.busy": "2022-02-08T09:17:07.043826Z",
     "iopub.status.idle": "2022-02-08T09:17:07.500556Z",
     "shell.execute_reply": "2022-02-08T09:17:07.500984Z"
    },
    "papermill": {
     "duration": 2.148923,
     "end_time": "2022-02-08T09:17:07.501131",
     "exception": false,
     "start_time": "2022-02-08T09:17:05.352208",
     "status": "completed"
    },
    "pycharm": {
     "name": "#%%\n"
    },
    "tags": []
   },
   "outputs": [
    {
     "name": "stdout",
     "output_type": "stream",
     "text": [
      "WARNING:tensorflow:AutoGraph could not transform <function Model.make_predict_function.<locals>.predict_function at 0x0000011AE51C3438> and will run it as-is.\n",
      "Please report this to the TensorFlow team. When filing the bug, set the verbosity to 10 (on Linux, `export AUTOGRAPH_VERBOSITY=10`) and attach the full output.\n",
      "Cause: 'arguments' object has no attribute 'posonlyargs'\n",
      "To silence this warning, decorate the function with @tf.autograph.experimental.do_not_convert\n",
      "1\n"
     ]
    },
    {
     "data": {
      "image/png": "[encoded data removed]",
      "text/plain": [
       "<Figure size 640x480 with 1 Axes>"
      ]
     },
     "metadata": {},
     "output_type": "display_data"
    }
   ],
   "source": [
    "predict_image('../inception_v3/dataset/B/B11.jpg', model)"
   ]
  }
 ],
 "metadata": {
  "kernelspec": {
   "display_name": "Python 3.7.9 64-bit",
   "language": "python",
   "name": "python3"
  },
  "language_info": {
   "codemirror_mode": {
    "name": "ipython",
    "version": 3
   },
   "file_extension": ".py",
   "mimetype": "text/x-python",
   "name": "python",
   "nbconvert_exporter": "python",
   "pygments_lexer": "ipython3",
   "version": "3.7.9"
  },
  "papermill": {
   "default_parameters": {},
   "duration": 3931.597727,
   "end_time": "2022-02-08T09:17:19.704145",
   "environment_variables": {},
   "exception": null,
   "input_path": "__notebook__.ipynb",
   "output_path": "__notebook__.ipynb",
   "parameters": {},
   "start_time": "2022-02-08T08:11:48.106418",
   "version": "2.3.3"
  },
  "vscode": {
   "interpreter": {
    "hash": "5109d816b82be14675a6b11f8e0f0d2e80f029176ed3710d54e125caa8520dfd"
   }
  }
 },
 "nbformat": 4,
 "nbformat_minor": 5
}
